{
 "cells": [
  {
   "cell_type": "code",
   "execution_count": null,
   "id": "e2fd5c23-eb71-48f1-921b-92598301e132",
   "metadata": {},
   "outputs": [
    {
     "name": "stdout",
     "output_type": "stream",
     "text": [
      "👀 Đang theo dõi thư mục: /Users/macbook/Downloads/BigData/DataStream\n",
      "✅ Đã xử lý file: SP1_2019_2020.csv\n",
      "✅ Đã xử lý file: SP1_2017_2018.csv\n",
      "✅ Đã xử lý file: SP1_2020_2021.csv\n"
     ]
    }
   ],
   "source": [
    "import os\n",
    "import time\n",
    "import pandas as pd\n",
    "from watchdog.observers import Observer\n",
    "from watchdog.events import FileSystemEventHandler\n",
    "\n",
    "# Thư mục chứa các file CSV gốc\n",
    "input_folder = \"/Users/macbook/Downloads/BigData/DataStream\"\n",
    "\n",
    "# Thư mục chứa các file CSV đã xử lý\n",
    "output_folder = \"/Users/macbook/Downloads/BigData/DataStream_cleaned\"\n",
    "os.makedirs(output_folder, exist_ok=True)\n",
    "\n",
    "# Các cột cần giữ lại\n",
    "columns_to_keep = ['FTR', 'AwayTeam', 'AST']\n",
    "\n",
    "class CSVHandler(FileSystemEventHandler):\n",
    "    def on_created(self, event):\n",
    "        if event.is_directory or not event.src_path.endswith(\".csv\"):\n",
    "            return\n",
    "        self.process(event.src_path)\n",
    "\n",
    "    def on_modified(self, event):\n",
    "        if event.is_directory or not event.src_path.endswith(\".csv\"):\n",
    "            return\n",
    "        self.process(event.src_path)\n",
    "\n",
    "    def process(self, filepath):\n",
    "        filename = os.path.basename(filepath)\n",
    "        output_path = os.path.join(output_folder, filename)\n",
    "        try:\n",
    "            df = pd.read_csv(filepath)\n",
    "            df_filtered = df[columns_to_keep]\n",
    "            df_filtered.to_csv(output_path, index=False)\n",
    "            print(f\"✅ Đã xử lý file: {filename}\")\n",
    "        except Exception as e:\n",
    "            print(f\"❌ Lỗi khi xử lý {filename}: {e}\")\n",
    "\n",
    "if __name__ == \"__main__\":\n",
    "    event_handler = CSVHandler()\n",
    "    observer = Observer()\n",
    "    observer.schedule(event_handler, path=input_folder, recursive=False)\n",
    "    observer.start()\n",
    "    print(f\"👀 Đang theo dõi thư mục: {input_folder}\")\n",
    "\n",
    "    try:\n",
    "        while True:\n",
    "            time.sleep(1)\n",
    "    except KeyboardInterrupt:\n",
    "        observer.stop()\n",
    "    observer.join()\n"
   ]
  },
  {
   "cell_type": "code",
   "execution_count": null,
   "id": "9b935416-3ea7-49c4-9319-85396330f4f1",
   "metadata": {},
   "outputs": [],
   "source": []
  }
 ],
 "metadata": {
  "kernelspec": {
   "display_name": "Python 3 (ipykernel)",
   "language": "python",
   "name": "python3"
  },
  "language_info": {
   "codemirror_mode": {
    "name": "ipython",
    "version": 3
   },
   "file_extension": ".py",
   "mimetype": "text/x-python",
   "name": "python",
   "nbconvert_exporter": "python",
   "pygments_lexer": "ipython3",
   "version": "3.12.7"
  }
 },
 "nbformat": 4,
 "nbformat_minor": 5
}
