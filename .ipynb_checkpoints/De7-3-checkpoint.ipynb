{
 "cells": [
  {
   "cell_type": "code",
   "execution_count": 7,
   "id": "bcff65bd-84de-4f12-832b-560ddeab29a3",
   "metadata": {},
   "outputs": [
    {
     "ename": "SyntaxError",
     "evalue": "invalid syntax (1926020853.py, line 1)",
     "output_type": "error",
     "traceback": [
      "\u001b[0;36m  Cell \u001b[0;32mIn[7], line 1\u001b[0;36m\u001b[0m\n\u001b[0;31m    bzip2 -d king-county-house-sales.csv.bz2\u001b[0m\n\u001b[0m             ^\u001b[0m\n\u001b[0;31mSyntaxError\u001b[0m\u001b[0;31m:\u001b[0m invalid syntax\n"
     ]
    }
   ],
   "source": [
    "#Chuyển định dạng file về csv để đọc (Vào folder chứa file bằng terminal)\n",
    "bzip2 -d king-county-house-sales.csv.bz2"
   ]
  },
  {
   "cell_type": "code",
   "execution_count": 14,
   "id": "87f13905-2395-4581-812d-8e9d5a12248f",
   "metadata": {},
   "outputs": [
    {
     "name": "stdout",
     "output_type": "stream",
     "text": [
      "+----------+---------------+--------+--------+---------+-----------+--------+------+----------+----+---------+-----+----------+-------------+--------+------------+-------+-------+--------+-------------+----------+\n",
      "|        id|           date|   price|bedrooms|bathrooms|sqft_living|sqft_lot|floors|waterfront|view|condition|grade|sqft_above|sqft_basement|yr_built|yr_renovated|zipcode|    lat|    long|sqft_living15|sqft_lot15|\n",
      "+----------+---------------+--------+--------+---------+-----------+--------+------+----------+----+---------+-----+----------+-------------+--------+------------+-------+-------+--------+-------------+----------+\n",
      "|7129300520|20141013T000000|221900.0|       3|      1.0|       1180|    5650|   1.0|         0|   0|        3|    7|      1180|            0|    1955|           0|  98178|47.5112|-122.257|         1340|      5650|\n",
      "|6414100192|20141209T000000|538000.0|       3|     2.25|       2570|    7242|   2.0|         0|   0|        3|    7|      2170|          400|    1951|        1991|  98125| 47.721|-122.319|         1690|      7639|\n",
      "|5631500400|20150225T000000|180000.0|       2|      1.0|        770|   10000|   1.0|         0|   0|        3|    6|       770|            0|    1933|           0|  98028|47.7379|-122.233|         2720|      8062|\n",
      "|2487200875|20141209T000000|604000.0|       4|      3.0|       1960|    5000|   1.0|         0|   0|        5|    7|      1050|          910|    1965|           0|  98136|47.5208|-122.393|         1360|      5000|\n",
      "|1954400510|20150218T000000|510000.0|       3|      2.0|       1680|    8080|   1.0|         0|   0|        3|    8|      1680|            0|    1987|           0|  98074|47.6168|-122.045|         1800|      7503|\n",
      "+----------+---------------+--------+--------+---------+-----------+--------+------+----------+----+---------+-----+----------+-------------+--------+------------+-------+-------+--------+-------------+----------+\n",
      "only showing top 5 rows\n",
      "\n"
     ]
    }
   ],
   "source": [
    "from pyspark.sql import SparkSession\n",
    "from pyspark.sql.functions import count, when, col\n",
    "\n",
    "# Khởi tạo Spark session\n",
    "spark = SparkSession.builder.appName('HouseSales').getOrCreate()\n",
    "\n",
    "# Đọc file .csv.bz2 vào DataFrame\n",
    "df = spark.read.csv(\"king-county-house-sales.csv\", header=True, inferSchema=True)\n",
    "\n",
    "\n",
    "# Hiển thị dữ liệu\n",
    "df.show(5)\n"
   ]
  },
  {
   "cell_type": "code",
   "execution_count": 15,
   "id": "f3d62c42-f18a-4710-8aa1-a68c08114ba4",
   "metadata": {
    "scrolled": true
   },
   "outputs": [
    {
     "name": "stdout",
     "output_type": "stream",
     "text": [
      "root\n",
      " |-- id: long (nullable = true)\n",
      " |-- date: string (nullable = true)\n",
      " |-- price: double (nullable = true)\n",
      " |-- bedrooms: integer (nullable = true)\n",
      " |-- bathrooms: double (nullable = true)\n",
      " |-- sqft_living: integer (nullable = true)\n",
      " |-- sqft_lot: integer (nullable = true)\n",
      " |-- floors: double (nullable = true)\n",
      " |-- waterfront: integer (nullable = true)\n",
      " |-- view: integer (nullable = true)\n",
      " |-- condition: integer (nullable = true)\n",
      " |-- grade: integer (nullable = true)\n",
      " |-- sqft_above: integer (nullable = true)\n",
      " |-- sqft_basement: integer (nullable = true)\n",
      " |-- yr_built: integer (nullable = true)\n",
      " |-- yr_renovated: integer (nullable = true)\n",
      " |-- zipcode: integer (nullable = true)\n",
      " |-- lat: double (nullable = true)\n",
      " |-- long: double (nullable = true)\n",
      " |-- sqft_living15: integer (nullable = true)\n",
      " |-- sqft_lot15: integer (nullable = true)\n",
      "\n",
      "+---+----+-----+--------+---------+-----------+--------+------+----------+----+---------+-----+----------+-------------+--------+------------+-------+---+----+-------------+----------+\n",
      "| id|date|price|bedrooms|bathrooms|sqft_living|sqft_lot|floors|waterfront|view|condition|grade|sqft_above|sqft_basement|yr_built|yr_renovated|zipcode|lat|long|sqft_living15|sqft_lot15|\n",
      "+---+----+-----+--------+---------+-----------+--------+------+----------+----+---------+-----+----------+-------------+--------+------------+-------+---+----+-------------+----------+\n",
      "|  0|   0|    0|       0|        0|          0|       0|     0|         0|   0|        0|    0|         0|            0|       0|           0|      0|  0|   0|            0|         0|\n",
      "+---+----+-----+--------+---------+-----------+--------+------+----------+----+---------+-----+----------+-------------+--------+------------+-------+---+----+-------------+----------+\n",
      "\n"
     ]
    }
   ],
   "source": [
    "# Kiểm tra schema của DataFrame để đảm bảo kiểu dữ liệu đúng\n",
    "df.printSchema()\n",
    "\n",
    "# Kiểm tra giá trị null trong các cột\n",
    "df.select([count(when(col(c).isNull(), c)).alias(c) for c in df.columns]).show()\n"
   ]
  },
  {
   "cell_type": "code",
   "execution_count": 16,
   "id": "6046eaad-1e93-45bd-a3d2-d322754da104",
   "metadata": {},
   "outputs": [
    {
     "name": "stdout",
     "output_type": "stream",
     "text": [
      "Số lượng nhà đang được bán: 21613\n"
     ]
    }
   ],
   "source": [
    "# Đếm số lượng nhà đang được bán\n",
    "num_houses = df.count()\n",
    "\n",
    "# In kết quả\n",
    "print(f\"Số lượng nhà đang được bán: {num_houses}\")"
   ]
  },
  {
   "cell_type": "code",
   "execution_count": 25,
   "id": "8d443e3e-0416-4d48-9ffd-a5cfc24a21a2",
   "metadata": {},
   "outputs": [
    {
     "name": "stdout",
     "output_type": "stream",
     "text": [
      "Số lượng vùng được liệt kê trong dữ liệu: 70\n",
      "+-------+\n",
      "|zipcode|\n",
      "+-------+\n",
      "|98001  |\n",
      "|98002  |\n",
      "|98003  |\n",
      "|98004  |\n",
      "|98005  |\n",
      "|98006  |\n",
      "|98007  |\n",
      "|98008  |\n",
      "|98010  |\n",
      "|98011  |\n",
      "|98014  |\n",
      "|98019  |\n",
      "|98022  |\n",
      "|98023  |\n",
      "|98024  |\n",
      "|98027  |\n",
      "|98028  |\n",
      "|98029  |\n",
      "|98030  |\n",
      "|98031  |\n",
      "+-------+\n",
      "only showing top 20 rows\n",
      "\n"
     ]
    }
   ],
   "source": [
    "# Lấy danh sách các vùng (zipcode) khác nhau (distinct)\n",
    "distinct_zipcodes = df.select(\"zipcode\").distinct()\n",
    "\n",
    "# Hiển thị số lượng vùng\n",
    "print(f\"Số lượng vùng được liệt kê trong dữ liệu: {distinct_zipcodes.count()}\")\n",
    "\n",
    "# Hiển thị danh sách các vùng (Mặc định show trong py chỉ hiện 20 hàng đầu) Truncate(không rút gọn)\n",
    "distinct_zipcodes.orderBy(\"zipcode\").show(20, truncate=False)\n"
   ]
  },
  {
   "cell_type": "code",
   "execution_count": 31,
   "id": "78a7b162-73cd-44df-8b89-95f7c41736ac",
   "metadata": {},
   "outputs": [
    {
     "name": "stdout",
     "output_type": "stream",
     "text": [
      "root\n",
      " |-- id: long (nullable = true)\n",
      " |-- date: string (nullable = true)\n",
      " |-- price: integer (nullable = true)\n",
      " |-- bedrooms: integer (nullable = true)\n",
      " |-- bathrooms: double (nullable = true)\n",
      " |-- sqft_living: integer (nullable = true)\n",
      " |-- sqft_lot: integer (nullable = true)\n",
      " |-- floors: integer (nullable = true)\n",
      " |-- waterfront: integer (nullable = true)\n",
      " |-- view: integer (nullable = true)\n",
      " |-- condition: integer (nullable = true)\n",
      " |-- grade: integer (nullable = true)\n",
      " |-- sqft_above: integer (nullable = true)\n",
      " |-- sqft_basement: integer (nullable = true)\n",
      " |-- yr_built: integer (nullable = true)\n",
      " |-- yr_renovated: integer (nullable = true)\n",
      " |-- zipcode: integer (nullable = true)\n",
      " |-- lat: double (nullable = true)\n",
      " |-- long: double (nullable = true)\n",
      " |-- sqft_living15: integer (nullable = true)\n",
      " |-- sqft_lot15: integer (nullable = true)\n",
      "\n"
     ]
    }
   ],
   "source": [
    "from pyspark.sql.functions import round\n",
    "# Ép kiểu các cột sang IntegerType\n",
    "#withColumn Tạo lại cột với kiểu dữ liệu mới\n",
    "df = df.withColumn(\"price\", round(col(\"price\")).cast(\"int\")) \\\n",
    "       .withColumn(\"sqft_living\", round(col(\"sqft_living\")).cast(\"int\")) \\\n",
    "       .withColumn(\"floors\", round(col(\"floors\")).cast(\"int\"))\n",
    "\n",
    "# Kiểm tra lại schema sau khi chuyển đổi\n",
    "df.printSchema()\n"
   ]
  },
  {
   "cell_type": "code",
   "execution_count": 32,
   "id": "69e4bab1-2c74-4c35-9ad0-b92aea8e7c7c",
   "metadata": {},
   "outputs": [
    {
     "name": "stdout",
     "output_type": "stream",
     "text": [
      "+----------+---------------+-------+--------+---------+-----------+--------+------+----------+----+---------+-----+----------+-------------+--------+------------+-------+-------+--------+-------------+----------+\n",
      "|        id|           date|  price|bedrooms|bathrooms|sqft_living|sqft_lot|floors|waterfront|view|condition|grade|sqft_above|sqft_basement|yr_built|yr_renovated|zipcode|    lat|    long|sqft_living15|sqft_lot15|\n",
      "+----------+---------------+-------+--------+---------+-----------+--------+------+----------+----+---------+-----+----------+-------------+--------+------------+-------+-------+--------+-------------+----------+\n",
      "|7129300520|20141013T000000| 221900|       3|      1.0|       1180|    5650|     1|         0|   0|        3|    7|      1180|            0|    1955|           0|  98178|47.5112|-122.257|         1340|      5650|\n",
      "|6414100192|20141209T000000| 538000|       3|     2.25|       2570|    7242|     2|         0|   0|        3|    7|      2170|          400|    1951|        1991|  98125| 47.721|-122.319|         1690|      7639|\n",
      "|5631500400|20150225T000000| 180000|       2|      1.0|        770|   10000|     1|         0|   0|        3|    6|       770|            0|    1933|           0|  98028|47.7379|-122.233|         2720|      8062|\n",
      "|2487200875|20141209T000000| 604000|       4|      3.0|       1960|    5000|     1|         0|   0|        5|    7|      1050|          910|    1965|           0|  98136|47.5208|-122.393|         1360|      5000|\n",
      "|1954400510|20150218T000000| 510000|       3|      2.0|       1680|    8080|     1|         0|   0|        3|    8|      1680|            0|    1987|           0|  98074|47.6168|-122.045|         1800|      7503|\n",
      "|7237550310|20140512T000000|1225000|       4|      4.5|       5420|  101930|     1|         0|   0|        3|   11|      3890|         1530|    2001|           0|  98053|47.6561|-122.005|         4760|    101930|\n",
      "|1321400060|20140627T000000| 257500|       3|     2.25|       1715|    6819|     2|         0|   0|        3|    7|      1715|            0|    1995|           0|  98003|47.3097|-122.327|         2238|      6819|\n",
      "|2008000270|20150115T000000| 291850|       3|      1.5|       1060|    9711|     1|         0|   0|        3|    7|      1060|            0|    1963|           0|  98198|47.4095|-122.315|         1650|      9711|\n",
      "|2414600126|20150415T000000| 229500|       3|      1.0|       1780|    7470|     1|         0|   0|        3|    7|      1050|          730|    1960|           0|  98146|47.5123|-122.337|         1780|      8113|\n",
      "|3793500160|20150312T000000| 323000|       3|      2.5|       1890|    6560|     2|         0|   0|        3|    7|      1890|            0|    2003|           0|  98038|47.3684|-122.031|         2390|      7570|\n",
      "+----------+---------------+-------+--------+---------+-----------+--------+------+----------+----+---------+-----+----------+-------------+--------+------------+-------+-------+--------+-------------+----------+\n",
      "only showing top 10 rows\n",
      "\n"
     ]
    }
   ],
   "source": [
    "df.show(10)"
   ]
  },
  {
   "cell_type": "code",
   "execution_count": 36,
   "id": "c71bde3b-171e-4d4b-ad24-47414084106c",
   "metadata": {},
   "outputs": [
    {
     "name": "stdout",
     "output_type": "stream",
     "text": [
      "+-------+------------------+\n",
      "|zipcode|avg_price         |\n",
      "+-------+------------------+\n",
      "|98039  |2160606.6         |\n",
      "|98004  |1355927.0820189274|\n",
      "|98040  |1194230.0212765958|\n",
      "|98112  |1095499.342007435 |\n",
      "|98102  |901258.2666666667 |\n",
      "|98109  |879623.6238532111 |\n",
      "|98105  |862825.2314410481 |\n",
      "|98006  |859684.7791164658 |\n",
      "|98119  |849448.0163043478 |\n",
      "|98005  |810164.875        |\n",
      "|98033  |803719.5231481482 |\n",
      "|98199  |791820.807570978  |\n",
      "|98075  |790576.6545961003 |\n",
      "|98074  |685605.775510204  |\n",
      "|98077  |682774.8787878788 |\n",
      "|98053  |678163.0592592593 |\n",
      "|98177  |676185.3921568628 |\n",
      "|98008  |645507.3780918728 |\n",
      "|98052  |645231.456445993  |\n",
      "|98122  |634360.1793103449 |\n",
      "+-------+------------------+\n",
      "only showing top 20 rows\n",
      "\n"
     ]
    }
   ],
   "source": [
    "from pyspark.sql.functions import avg\n",
    "\n",
    "# Tính giá trung bình nhà theo vùng (zipcode)\n",
    "avg_price_by_zipcode = df.groupBy(\"zipcode\").agg(avg(\"price\").alias(\"avg_price\"))\n",
    "\n",
    "# Hiển thị kết quả (sắp xếp theo giá trung bình giảm dần)\n",
    "avg_price_by_zipcode.orderBy(\"avg_price\", ascending=False).show(truncate=False)\n",
    "\n",
    "#Giải thích\n",
    "# Lọc dữ liệu theo cột zipcode vì mình tính trung bình theo giá từng vùng\n",
    "# agg(avg(\"price\").alias(\"avg_price\")) tính trung bình các giá trị zipcode và đặt tên \n",
    "\n",
    "#bọc round vào agg nếu muốn làm tròn đến mấy chữ số vd .round(agg(avg(\"price\"), 2)\n"
   ]
  },
  {
   "cell_type": "code",
   "execution_count": 38,
   "id": "fd5b4a25-b5e0-4213-8304-d639db1b89cc",
   "metadata": {},
   "outputs": [
    {
     "name": "stdout",
     "output_type": "stream",
     "text": [
      "+----------+---------------+-------+--------+---------+-----------+--------+------+----------+----+---------+-----+----------+-------------+--------+------------+-------+-------+--------+-------------+----------+\n",
      "|id        |date           |price  |bedrooms|bathrooms|sqft_living|sqft_lot|floors|waterfront|view|condition|grade|sqft_above|sqft_basement|yr_built|yr_renovated|zipcode|lat    |long    |sqft_living15|sqft_lot15|\n",
      "+----------+---------------+-------+--------+---------+-----------+--------+------+----------+----+---------+-----+----------+-------------+--------+------------+-------+-------+--------+-------------+----------+\n",
      "|2426039314|20141201T000000|280000 |2       |1.5      |1190       |1265    |3     |0         |0   |3        |7    |1190      |0            |2005    |0           |98133  |47.7274|-122.357|1390         |1756      |\n",
      "|9528102996|20141207T000000|549000 |3       |1.75     |1540       |1044    |3     |0         |0   |3        |8    |1540      |0            |2014    |0           |98115  |47.6765|-122.32 |1580         |3090      |\n",
      "|3362400431|20140626T000000|518500 |3       |3.5      |1590       |1102    |3     |0         |0   |3        |8    |1590      |0            |2010    |0           |98103  |47.6824|-122.347|1620         |3166      |\n",
      "|2767602356|20150126T000000|675000 |4       |3.5      |2140       |2278    |3     |0         |0   |3        |9    |2140      |0            |2005    |0           |98107  |47.6734|-122.38 |1540         |2285      |\n",
      "|2767603505|20140507T000000|519950 |3       |2.25     |1170       |1249    |3     |0         |0   |3        |8    |1170      |0            |2014    |0           |98107  |47.6722|-122.381|1350         |1310      |\n",
      "|7821200390|20140806T000000|450000 |3       |2.0      |1290       |1213    |3     |0         |0   |3        |8    |1290      |0            |2001    |0           |98103  |47.6609|-122.344|1290         |3235      |\n",
      "|9528102772|20140708T000000|438000 |2       |2.0      |1270       |1372    |3     |0         |0   |3        |8    |1270      |0            |2000    |0           |98115  |47.6776|-122.318|1610         |3090      |\n",
      "|3126049411|20141209T000000|340000 |2       |2.5      |1100       |1760    |3     |0         |0   |3        |7    |1100      |0            |1997    |0           |98103  |47.6972|-122.35 |1200         |1415      |\n",
      "|7548300731|20140808T000000|559950 |3       |2.5      |1660       |1458    |3     |0         |0   |3        |9    |1660      |0            |2014    |0           |98144  |47.5876|-122.309|1660         |1784      |\n",
      "|9385200045|20150512T000000|729500 |3       |2.5      |1660       |1091    |3     |0         |1   |3        |9    |1530      |130          |2015    |0           |98116  |47.5818|-122.402|1510         |1352      |\n",
      "|6798100662|20140527T000000|312000 |3       |1.5      |1255       |1374    |3     |0         |0   |3        |7    |1255      |0            |2004    |0           |98125  |47.7145|-122.311|1307         |1232      |\n",
      "|6145600041|20140514T000000|306000 |3       |1.5      |1220       |1086    |3     |0         |0   |3        |8    |1220      |0            |2007    |0           |98133  |47.7049|-122.353|1220         |1422      |\n",
      "|3300701615|20140930T000000|655000 |4       |2.5      |2630       |4000    |3     |0         |0   |3        |8    |2630      |0            |2002    |0           |98117  |47.6915|-122.381|1640         |4000      |\n",
      "|108000127 |20141209T000000|456500 |4       |3.5      |2000       |2309    |3     |0         |0   |3        |8    |2000      |0            |2008    |0           |98177  |47.7027|-122.361|1440         |1548      |\n",
      "|6306400140|20140612T000000|1095000|0       |0.0      |3064       |4764    |3     |0         |2   |3        |7    |3064      |0            |1990    |0           |98102  |47.6362|-122.322|2360         |4000      |\n",
      "|510002519 |20140715T000000|466000 |2       |1.5      |1140       |1058    |3     |0         |0   |3        |7    |1140      |0            |2005    |0           |98103  |47.6608|-122.333|1170         |1116      |\n",
      "|7517500611|20140521T000000|720000 |3       |2.5      |2020       |1159    |3     |0         |3   |3        |8    |2020      |0            |2000    |0           |98103  |47.6617|-122.356|1920         |3600      |\n",
      "|9528104108|20140529T000000|535000 |3       |2.5      |1360       |1016    |3     |0         |0   |3        |7    |1310      |50           |2003    |0           |98115  |47.6774|-122.324|1365         |1156      |\n",
      "|9158100116|20150406T000000|285000 |2       |1.5      |990        |1380    |3     |0         |0   |3        |7    |990       |0            |2001    |0           |98133  |47.7218|-122.356|1050         |1380      |\n",
      "|2770604942|20141230T000000|609850 |2       |2.75     |1910       |1369    |3     |0         |0   |3        |9    |1910      |0            |2002    |0           |98119  |47.6544|-122.373|1910         |1879      |\n",
      "+----------+---------------+-------+--------+---------+-----------+--------+------+----------+----+---------+-----+----------+-------------+--------+------------+-------+-------+--------+-------------+----------+\n",
      "only showing top 20 rows\n",
      "\n",
      "Số lượng nhà 3 tầng xây sau năm 1970: 612\n"
     ]
    }
   ],
   "source": [
    "# Lọc những nhà có 3 tầng và xây sau năm 1970\n",
    "houses_3_floors_after_1970 = df.filter((col(\"floors\") == 3) & (col(\"yr_built\") > 1970))\n",
    "\n",
    "# Hiển thị kết quả\n",
    "houses_3_floors_after_1970.show(truncate=False)\n",
    "\n",
    "print(\"Số lượng nhà 3 tầng xây sau năm 1970:\", houses_3_floors_after_1970.count())\n"
   ]
  },
  {
   "cell_type": "code",
   "execution_count": 40,
   "id": "994e632e-90e1-4606-b9ed-0ea6558a6f0c",
   "metadata": {},
   "outputs": [
    {
     "name": "stdout",
     "output_type": "stream",
     "text": [
      "+------+------------+----------+\n",
      "|floors|total_houses|avg_price |\n",
      "+------+------------+----------+\n",
      "|1     |1850        |204784.884|\n",
      "|2     |208         |219255.822|\n",
      "|3     |2           |206700.0  |\n",
      "+------+------------+----------+\n",
      "\n"
     ]
    }
   ],
   "source": [
    "from pyspark.sql.functions import avg, count, round\n",
    "\n",
    "# 1. Lọc nhà có <= 3 phòng ngủ và giá <= 250000\n",
    "filtered_df = df.filter((col(\"bedrooms\") <= 3) & (col(\"price\") <= 250000))\n",
    "\n",
    "# 2. Nhóm theo số tầng, tính tổng số nhà và giá trung bình\n",
    "summary_df = filtered_df.groupBy(\"floors\") \\\n",
    "    .agg(\n",
    "        count(\"*\").alias(\"total_houses\"),\n",
    "        round(avg(\"price\"), 3).alias(\"avg_price\")\n",
    "    ) \\\n",
    "    .orderBy(\"floors\")\n",
    "\n",
    "# 3. Hiển thị kết quả\n",
    "summary_df.show(truncate=False)\n"
   ]
  },
  {
   "cell_type": "code",
   "execution_count": 41,
   "id": "18a8b0a8-2ad1-43db-ac08-9a74bea25505",
   "metadata": {},
   "outputs": [
    {
     "name": "stdout",
     "output_type": "stream",
     "text": [
      "root\n",
      " |-- id: long (nullable = true)\n",
      " |-- date: date (nullable = true)\n",
      " |-- price: integer (nullable = true)\n",
      " |-- bedrooms: integer (nullable = true)\n",
      " |-- bathrooms: double (nullable = true)\n",
      " |-- sqft_living: integer (nullable = true)\n",
      " |-- sqft_lot: integer (nullable = true)\n",
      " |-- floors: integer (nullable = true)\n",
      " |-- waterfront: integer (nullable = true)\n",
      " |-- view: integer (nullable = true)\n",
      " |-- condition: integer (nullable = true)\n",
      " |-- grade: integer (nullable = true)\n",
      " |-- sqft_above: integer (nullable = true)\n",
      " |-- sqft_basement: integer (nullable = true)\n",
      " |-- yr_built: integer (nullable = true)\n",
      " |-- yr_renovated: integer (nullable = true)\n",
      " |-- zipcode: integer (nullable = true)\n",
      " |-- lat: double (nullable = true)\n",
      " |-- long: double (nullable = true)\n",
      " |-- sqft_living15: integer (nullable = true)\n",
      " |-- sqft_lot15: integer (nullable = true)\n",
      "\n"
     ]
    }
   ],
   "source": [
    "#Do cột date đang là string -> dateType\n",
    "from pyspark.sql.functions import to_date, year\n",
    "\n",
    "# Chuyển đổi cột date từ chuỗi sang kiểu Date\n",
    "df = df.withColumn(\"date\", to_date(col(\"date\"), \"yyyyMMdd'T'HHmmss\"))\n",
    "\n",
    "# Kiểm tra schema để xác nhận\n",
    "df.printSchema()\n"
   ]
  },
  {
   "cell_type": "code",
   "execution_count": 44,
   "id": "3038da69-baf6-4620-8b5e-9e0c86d6e153",
   "metadata": {},
   "outputs": [
    {
     "name": "stdout",
     "output_type": "stream",
     "text": [
      "+----------+----------+-------+--------+---------+-----------+--------+------+----------+----+---------+-----+----------+-------------+--------+------------+-------+-------+--------+-------------+----------+\n",
      "|id        |date      |price  |bedrooms|bathrooms|sqft_living|sqft_lot|floors|waterfront|view|condition|grade|sqft_above|sqft_basement|yr_built|yr_renovated|zipcode|lat    |long    |sqft_living15|sqft_lot15|\n",
      "+----------+----------+-------+--------+---------+-----------+--------+------+----------+----+---------+-----+----------+-------------+--------+------------+-------+-------+--------+-------------+----------+\n",
      "|5631500400|2015-02-25|180000 |2       |1.0      |770        |10000   |1     |0         |0   |3        |6    |770       |0            |1933    |0           |98028  |47.7379|-122.233|2720         |8062      |\n",
      "|1954400510|2015-02-18|510000 |3       |2.0      |1680       |8080    |1     |0         |0   |3        |8    |1680      |0            |1987    |0           |98074  |47.6168|-122.045|1800         |7503      |\n",
      "|2008000270|2015-01-15|291850 |3       |1.5      |1060       |9711    |1     |0         |0   |3        |7    |1060      |0            |1963    |0           |98198  |47.4095|-122.315|1650         |9711      |\n",
      "|2414600126|2015-04-15|229500 |3       |1.0      |1780       |7470    |1     |0         |0   |3        |7    |1050      |730          |1960    |0           |98146  |47.5123|-122.337|1780         |8113      |\n",
      "|3793500160|2015-03-12|323000 |3       |2.5      |1890       |6560    |2     |0         |0   |3        |7    |1890      |0            |2003    |0           |98038  |47.3684|-122.031|2390         |7570      |\n",
      "|1736800520|2015-04-03|662500 |3       |2.5      |3560       |9796    |1     |0         |0   |3        |8    |1860      |1700         |1965    |0           |98007  |47.6007|-122.145|2210         |8925      |\n",
      "|1175000570|2015-03-12|530000 |5       |2.0      |1810       |4850    |1     |0         |0   |3        |7    |1810      |0            |1900    |0           |98107  |47.67  |-122.394|1360         |4850      |\n",
      "|9297300055|2015-01-24|650000 |4       |3.0      |2950       |5000    |2     |0         |3   |3        |9    |1980      |970          |1979    |0           |98126  |47.5714|-122.375|2140         |4000      |\n",
      "|7983200060|2015-04-24|230000 |3       |1.0      |1250       |9774    |1     |0         |0   |4        |7    |1250      |0            |1969    |0           |98003  |47.3343|-122.306|1280         |8850      |\n",
      "|1873100390|2015-03-02|719000 |4       |2.5      |2570       |7173    |2     |0         |0   |3        |8    |2570      |0            |2005    |0           |98052  |47.7073|-122.11 |2630         |6026      |\n",
      "|7895500070|2015-02-13|240000 |4       |1.0      |1220       |8075    |1     |0         |0   |2        |7    |890       |330          |1969    |0           |98001  |47.3341|-122.282|1290         |7800      |\n",
      "|8945200830|2015-03-25|210490 |3       |1.0      |990        |8528    |1     |0         |0   |3        |6    |990       |0            |1966    |0           |98023  |47.3066|-122.371|1228         |8840      |\n",
      "|9215400105|2015-04-28|450000 |3       |1.75     |1250       |5963    |1     |0         |0   |4        |7    |1250      |0            |1953    |0           |98115  |47.6796|-122.301|970          |5100      |\n",
      "|822039084 |2015-03-11|1350000|3       |2.5      |2753       |65005   |1     |1         |2   |5        |9    |2165      |588          |1953    |0           |98070  |47.4041|-122.451|2680         |72513     |\n",
      "|7231300125|2015-02-17|345000 |5       |2.5      |3150       |9134    |1     |0         |0   |4        |8    |1640      |1510         |1966    |0           |98056  |47.4934|-122.189|1990         |9133      |\n",
      "|3626039271|2015-02-05|585000 |2       |1.75     |1980       |8550    |1     |0         |0   |3        |7    |990       |990          |1981    |0           |98117  |47.6989|-122.369|1480         |6738      |\n",
      "|4217401195|2015-03-03|920000 |5       |2.25     |2730       |6000    |1     |0         |0   |3        |8    |2130      |600          |1927    |0           |98105  |47.6571|-122.281|2730         |6000      |\n",
      "|2799800710|2015-04-07|301000 |3       |2.5      |2420       |4750    |2     |0         |0   |3        |8    |2420      |0            |2003    |0           |98042  |47.3663|-122.122|2690         |4750      |\n",
      "|8079040320|2015-02-23|430000 |4       |3.0      |1850       |9976    |2     |0         |0   |3        |8    |1850      |0            |1991    |0           |98059  |47.5059|-122.149|2270         |8542      |\n",
      "|1049000060|2015-01-05|325000 |3       |2.0      |1260       |5612    |1     |0         |0   |4        |7    |1260      |0            |1972    |0           |98034  |47.7362|-122.179|1640         |4745      |\n",
      "+----------+----------+-------+--------+---------+-----------+--------+------+----------+----+---------+-----+----------+-------------+--------+------------+-------+-------+--------+-------------+----------+\n",
      "only showing top 20 rows\n",
      "\n",
      "Số lượng nhà đăng bán vào năm 2015: 6980\n"
     ]
    }
   ],
   "source": [
    "# Lọc nhà đăng bán vào năm 2015\n",
    "houses_2015 = df.filter(year(col(\"date\")) == 2015)\n",
    "\n",
    "# Hiển thị kết quả\n",
    "houses_2015.show(truncate=False)\n",
    "\n",
    "# Số lượng\n",
    "print(\"Số lượng nhà đăng bán vào năm 2015:\", houses_2015.count())\n"
   ]
  },
  {
   "cell_type": "code",
   "execution_count": 51,
   "id": "d55789de-033f-4dba-9759-68f311564417",
   "metadata": {},
   "outputs": [
    {
     "name": "stdout",
     "output_type": "stream",
     "text": [
      "+--------+----+----+----+\n",
      "|bedrooms|1   |2   |3   |\n",
      "+--------+----+----+----+\n",
      "|0       |4   |6   |3   |\n",
      "|1       |183 |13  |3   |\n",
      "|2       |2133|502 |125 |\n",
      "|3       |6241|3174|409 |\n",
      "|4       |3081|3740|61  |\n",
      "|5       |790 |798 |13  |\n",
      "|6       |134 |133 |5   |\n",
      "|7       |16  |21  |1   |\n",
      "|8       |6   |6   |1   |\n",
      "|9       |NULL|6   |NULL|\n",
      "|10      |1   |2   |NULL|\n",
      "|11      |NULL|1   |NULL|\n",
      "|33      |1   |NULL|NULL|\n",
      "+--------+----+----+----+\n",
      "\n"
     ]
    }
   ],
   "source": [
    "from pyspark.sql.functions import count\n",
    "\n",
    "# Xoay bảng (pivot) theo cột floors và nhóm theo cột bedrooms\n",
    "pivot_df = df.groupBy(\"bedrooms\") \\\n",
    "    .pivot(\"floors\") \\\n",
    "    .agg(count(\"*\").alias(\"count\"))\n",
    "\n",
    "# Hiển thị kết quả\n",
    "pivot_df.orderBy(\"bedrooms\").show(truncate=False)\n"
   ]
  },
  {
   "cell_type": "code",
   "execution_count": 53,
   "id": "10dd1b1e-5f7d-4c8c-85e1-d22d26736ef2",
   "metadata": {},
   "outputs": [
    {
     "name": "stdout",
     "output_type": "stream",
     "text": [
      "+-----------+-------------+\n",
      "|sqft_living|size_category|\n",
      "+-----------+-------------+\n",
      "|290        |small        |\n",
      "|370        |small        |\n",
      "|380        |small        |\n",
      "|384        |small        |\n",
      "|390        |small        |\n",
      "|390        |small        |\n",
      "|410        |small        |\n",
      "|420        |small        |\n",
      "|420        |small        |\n",
      "|430        |small        |\n",
      "|440        |small        |\n",
      "|460        |small        |\n",
      "|470        |small        |\n",
      "|470        |small        |\n",
      "|480        |small        |\n",
      "|480        |small        |\n",
      "|490        |small        |\n",
      "|500        |small        |\n",
      "|520        |small        |\n",
      "|520        |small        |\n",
      "+-----------+-------------+\n",
      "only showing top 20 rows\n",
      "\n"
     ]
    }
   ],
   "source": [
    "from pyspark.sql.functions import when, col\n",
    "\n",
    "# Tạo cột mới \"size_category\" với giá trị theo điều kiện diện tích\n",
    "df = df.withColumn(\n",
    "    \"size_category\", \n",
    "    when(col(\"sqft_living\") <= 1000, \"small\")\n",
    "    .when((col(\"sqft_living\") > 1000) & (col(\"sqft_living\") < 2000), \"medium\")\n",
    "    .otherwise(\"large\")\n",
    ")\n",
    "\n",
    "# Hiển thị kết quả\n",
    "df.select(\"sqft_living\", \"size_category\").orderBy(\"sqft_living\").show(truncate=False)\n"
   ]
  },
  {
   "cell_type": "code",
   "execution_count": null,
   "id": "8eae261b-f2b8-4658-9263-d5979d61a27d",
   "metadata": {},
   "outputs": [],
   "source": []
  }
 ],
 "metadata": {
  "kernelspec": {
   "display_name": "Python (pyspark_env)",
   "language": "python",
   "name": "pyspark-env"
  },
  "language_info": {
   "codemirror_mode": {
    "name": "ipython",
    "version": 3
   },
   "file_extension": ".py",
   "mimetype": "text/x-python",
   "name": "python",
   "nbconvert_exporter": "python",
   "pygments_lexer": "ipython3",
   "version": "3.10.17"
  }
 },
 "nbformat": 4,
 "nbformat_minor": 5
}
