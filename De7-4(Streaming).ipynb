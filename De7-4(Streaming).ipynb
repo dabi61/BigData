{
 "cells": [
  {
   "cell_type": "code",
   "execution_count": null,
   "id": "0765a8ae-5949-4b6a-8b4b-77d19a891073",
   "metadata": {},
   "outputs": [
    {
     "name": "stderr",
     "output_type": "stream",
     "text": [
      "Setting default log level to \"WARN\".\n",
      "To adjust logging level use sc.setLogLevel(newLevel). For SparkR, use setLogLevel(newLevel).\n",
      "25/04/21 23:16:26 WARN NativeCodeLoader: Unable to load native-hadoop library for your platform... using builtin-java classes where applicable\n",
      "25/04/21 23:16:27 WARN Utils: Service 'SparkUI' could not bind on port 4040. Attempting port 4041.\n",
      "25/04/21 23:16:29 WARN ResolveWriteToStream: Temporary checkpoint location created which is deleted normally when the query didn't fail: /private/var/folders/20/3zj4bhnd5gl57qd2cr57vsk40000gn/T/temporary-3bb72665-89ca-46ca-a983-a1b741715f18. If it's required to delete it under any circumstances, please set spark.sql.streaming.forceDeleteTempCheckpointLocation to true. Important to know deleting temp checkpoint folder is best effort.\n",
      "25/04/21 23:16:29 WARN ResolveWriteToStream: spark.sql.adaptive.enabled is not supported in streaming DataFrames/Datasets and will be disabled.\n",
      "                                                                                "
     ]
    },
    {
     "name": "stdout",
     "output_type": "stream",
     "text": [
      "-------------------------------------------\n",
      "Batch: 0\n",
      "-------------------------------------------\n",
      "+--------+---------------+---------------------+\n",
      "|AwayTeam|away_wins_count|total_shots_on_target|\n",
      "+--------+---------------+---------------------+\n",
      "+--------+---------------+---------------------+\n",
      "\n"
     ]
    },
    {
     "name": "stderr",
     "output_type": "stream",
     "text": [
      "                                                                                "
     ]
    },
    {
     "name": "stdout",
     "output_type": "stream",
     "text": [
      "-------------------------------------------\n",
      "Batch: 1\n",
      "-------------------------------------------\n",
      "+-----------+---------------+---------------------+\n",
      "|   AwayTeam|away_wins_count|total_shots_on_target|\n",
      "+-----------+---------------+---------------------+\n",
      "|   Sociedad|              5|                   26|\n",
      "|Real Madrid|              5|                   24|\n",
      "|    Sevilla|              4|                   12|\n",
      "+-----------+---------------+---------------------+\n",
      "\n"
     ]
    },
    {
     "name": "stderr",
     "output_type": "stream",
     "text": [
      "                                                                                "
     ]
    },
    {
     "name": "stdout",
     "output_type": "stream",
     "text": [
      "-------------------------------------------\n",
      "Batch: 2\n",
      "-------------------------------------------\n",
      "+-----------+---------------+---------------------+\n",
      "|   AwayTeam|away_wins_count|total_shots_on_target|\n",
      "+-----------+---------------+---------------------+\n",
      "|Real Madrid|             16|                   89|\n",
      "|    Sevilla|             13|                   61|\n",
      "|   Sociedad|             12|                   59|\n",
      "+-----------+---------------+---------------------+\n",
      "\n"
     ]
    }
   ],
   "source": [
    "from pyspark.sql import SparkSession\n",
    "from pyspark.sql.types import StructType, StructField, StringType, IntegerType, FloatType, DateType\n",
    "from pyspark.sql import functions as F\n",
    "\n",
    "# Khởi tạo Spark session\n",
    "spark = SparkSession.builder.appName('Laliga').getOrCreate()\n",
    "\n",
    "# Định nghĩa schema cho tệp CSV\n",
    "schema = StructType([\n",
    "    StructField(\"FTR\", StringType(), True),\n",
    "    StructField(\"AwayTeam\", StringType(), True),\n",
    "    StructField(\"AST\", IntegerType(), True),  # Away Team Shots on Target\n",
    "    StructField(\"Date\", DateType(), True),  # Away Team Shots on Target\n",
    "    \n",
    "])\n",
    "\n",
    "# Đọc dữ liệu từ thư mục (streaming)\n",
    "df_stream = spark.readStream.format(\"csv\") \\\n",
    "    .option(\"header\", \"true\") \\\n",
    "    .schema(schema) \\\n",
    "    .load(\"DataStream_cleaned/\")  # Đảm bảo đây là thư mục chứa tệp\n",
    "\n",
    "\n",
    "# Lọc các trận đấu mà đội khách thắng (FTR = 'A')\n",
    "away_wins_df = df_stream.filter(df_stream[\"FTR\"] == \"A\")\n",
    "\n",
    "# Nhóm theo đội khách (AwayTeam) và tính tổng số trận thắng và tổng số cú sút trúng đích (AST)\n",
    "result_df = away_wins_df.groupBy(\"AwayTeam\").agg(\n",
    "    F.count(\"FTR\").alias(\"away_wins_count\"),  # Số trận thắng trên sân khách\n",
    "    F.sum(\"AST\").alias(\"total_shots_on_target\")  # Tổng số cú sút trúng đích\n",
    ")\n",
    "\n",
    "# Sắp xếp theo số trận thắng giảm dần và lấy 3 đội có số trận thắng cao nhất\n",
    "top_3_teams_df = result_df.orderBy(F.col(\"away_wins_count\").desc()).limit(3)\n",
    "\n",
    "# Xuất kết quả ra console\n",
    "query = top_3_teams_df.writeStream.outputMode(\"complete\").format(\"console\").start()\n",
    "\n",
    "# Đợi cho đến khi stream dừng\n",
    "query.awaitTermination()"
   ]
  },
  {
   "cell_type": "code",
   "execution_count": null,
   "id": "e8c4d32d-8ca9-48c4-aab1-c9c042ec894e",
   "metadata": {},
   "outputs": [],
   "source": []
  },
  {
   "cell_type": "code",
   "execution_count": null,
   "id": "01c1f4d6-d59f-456f-b3c3-cad8f258dfaa",
   "metadata": {},
   "outputs": [],
   "source": []
  }
 ],
 "metadata": {
  "kernelspec": {
   "display_name": "Python (pyspark_env)",
   "language": "python",
   "name": "pyspark-env"
  },
  "language_info": {
   "codemirror_mode": {
    "name": "ipython",
    "version": 3
   },
   "file_extension": ".py",
   "mimetype": "text/x-python",
   "name": "python",
   "nbconvert_exporter": "python",
   "pygments_lexer": "ipython3",
   "version": "3.10.17"
  }
 },
 "nbformat": 4,
 "nbformat_minor": 5
}
