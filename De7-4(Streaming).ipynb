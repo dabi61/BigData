{
 "cells": [
  {
   "cell_type": "code",
   "execution_count": null,
   "id": "0765a8ae-5949-4b6a-8b4b-77d19a891073",
   "metadata": {},
   "outputs": [
    {
     "name": "stderr",
     "output_type": "stream",
     "text": [
      "25/04/21 21:29:18 WARN ResolveWriteToStream: Temporary checkpoint location created which is deleted normally when the query didn't fail: /private/var/folders/20/3zj4bhnd5gl57qd2cr57vsk40000gn/T/temporary-de4de53b-de79-4afb-aad1-2f5fdd189ec9. If it's required to delete it under any circumstances, please set spark.sql.streaming.forceDeleteTempCheckpointLocation to true. Important to know deleting temp checkpoint folder is best effort.\n",
      "25/04/21 21:29:18 WARN ResolveWriteToStream: spark.sql.adaptive.enabled is not supported in streaming DataFrames/Datasets and will be disabled.\n",
      "                                                                                "
     ]
    },
    {
     "name": "stdout",
     "output_type": "stream",
     "text": [
      "-------------------------------------------\n",
      "Batch: 0\n",
      "-------------------------------------------\n",
      "+-----------+---------------+---------------------+\n",
      "|   AwayTeam|away_wins_count|total_shots_on_target|\n",
      "+-----------+---------------+---------------------+\n",
      "|Real Madrid|             11|                   65|\n",
      "|    Sevilla|              9|                   49|\n",
      "|  Barcelona|              9|                   60|\n",
      "+-----------+---------------+---------------------+\n",
      "\n"
     ]
    },
    {
     "name": "stderr",
     "output_type": "stream",
     "text": [
      "                                                                                "
     ]
    },
    {
     "name": "stdout",
     "output_type": "stream",
     "text": [
      "-------------------------------------------\n",
      "Batch: 1\n",
      "-------------------------------------------\n",
      "+-----------+---------------+---------------------+\n",
      "|   AwayTeam|away_wins_count|total_shots_on_target|\n",
      "+-----------+---------------+---------------------+\n",
      "|  Barcelona|             21|                  149|\n",
      "|Real Madrid|             21|                  134|\n",
      "| Ath Madrid|             17|                   82|\n",
      "+-----------+---------------+---------------------+\n",
      "\n"
     ]
    },
    {
     "name": "stderr",
     "output_type": "stream",
     "text": [
      "                                                                                "
     ]
    },
    {
     "name": "stdout",
     "output_type": "stream",
     "text": [
      "-------------------------------------------\n",
      "Batch: 2\n",
      "-------------------------------------------\n",
      "+-----------+---------------+---------------------+\n",
      "|   AwayTeam|away_wins_count|total_shots_on_target|\n",
      "+-----------+---------------+---------------------+\n",
      "|  Barcelona|             34|                  230|\n",
      "|Real Madrid|             33|                  191|\n",
      "| Ath Madrid|             28|                  129|\n",
      "+-----------+---------------+---------------------+\n",
      "\n"
     ]
    }
   ],
   "source": [
    "from pyspark.sql import SparkSession\n",
    "from pyspark.sql.types import StructType, StructField, StringType, IntegerType, FloatType\n",
    "from pyspark.sql import functions as F\n",
    "\n",
    "# Khởi tạo Spark session\n",
    "spark = SparkSession.builder.appName('Laliga').getOrCreate()\n",
    "\n",
    "# Định nghĩa schema cho tệp CSV\n",
    "schema = StructType([\n",
    "    StructField(\"FTR\", StringType(), True),\n",
    "    StructField(\"AwayTeam\", StringType(), True),\n",
    "    StructField(\"AST\", IntegerType(), True),  # Away Team Shots on Target\n",
    "])\n",
    "\n",
    "# Đọc dữ liệu từ thư mục (streaming)\n",
    "df_stream = spark.readStream.format(\"csv\") \\\n",
    "    .option(\"header\", \"true\") \\\n",
    "    .schema(schema) \\\n",
    "    .load(\"DataStream_cleaned/\")  # Đảm bảo đây là thư mục chứa tệp\n",
    "\n",
    "\n",
    "# Lọc các trận đấu mà đội khách thắng (FTR = 'A')\n",
    "away_wins_df = df_stream.filter(df_stream[\"FTR\"] == \"A\")\n",
    "\n",
    "# Nhóm theo đội khách (AwayTeam) và tính tổng số trận thắng và tổng số cú sút trúng đích (AST)\n",
    "result_df = away_wins_df.groupBy(\"AwayTeam\").agg(\n",
    "    F.count(\"FTR\").alias(\"away_wins_count\"),  # Số trận thắng trên sân khách\n",
    "    F.sum(\"AST\").alias(\"total_shots_on_target\")  # Tổng số cú sút trúng đích\n",
    ")\n",
    "\n",
    "# Sắp xếp theo số trận thắng giảm dần và lấy 3 đội có số trận thắng cao nhất\n",
    "top_3_teams_df = result_df.orderBy(F.col(\"away_wins_count\").desc()).limit(3)\n",
    "\n",
    "# Xuất kết quả ra console\n",
    "query = top_3_teams_df.writeStream.outputMode(\"complete\").format(\"console\").start()\n",
    "\n",
    "# Đợi cho đến khi stream dừng\n",
    "query.awaitTermination()"
   ]
  },
  {
   "cell_type": "code",
   "execution_count": null,
   "id": "e8c4d32d-8ca9-48c4-aab1-c9c042ec894e",
   "metadata": {},
   "outputs": [],
   "source": []
  }
 ],
 "metadata": {
  "kernelspec": {
   "display_name": "Python (pyspark_env)",
   "language": "python",
   "name": "pyspark-env"
  },
  "language_info": {
   "codemirror_mode": {
    "name": "ipython",
    "version": 3
   },
   "file_extension": ".py",
   "mimetype": "text/x-python",
   "name": "python",
   "nbconvert_exporter": "python",
   "pygments_lexer": "ipython3",
   "version": "3.10.17"
  }
 },
 "nbformat": 4,
 "nbformat_minor": 5
}
